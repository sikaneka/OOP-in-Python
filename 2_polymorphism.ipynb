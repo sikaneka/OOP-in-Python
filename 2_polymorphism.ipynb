{
 "cells": [
  {
   "cell_type": "markdown",
   "id": "bd0ebbe4",
   "metadata": {},
   "source": [
    "<u>Method Overloading</u>"
   ]
  },
  {
   "cell_type": "markdown",
   "id": "c6e72bda",
   "metadata": {},
   "source": [
    "Makes code flexible (same function works for different types).\n",
    "Encourages reusability and extensibility\n",
    "Reduces code duplication.\n",
    "Helps in real-world modeling (different objects, same behavior name)."
   ]
  },
  {
   "cell_type": "markdown",
   "id": "e33b3e9d",
   "metadata": {},
   "source": [
    "Poly- different/Multiple\n",
    "morph - forms"
   ]
  },
  {
   "cell_type": "markdown",
   "id": "4c5dd69a",
   "metadata": {},
   "source": [
    "<u>Method over loading</u>"
   ]
  },
  {
   "cell_type": "code",
   "execution_count": 2,
   "id": "d19d26fd",
   "metadata": {},
   "outputs": [
    {
     "data": {
      "text/plain": [
       "23"
      ]
     },
     "execution_count": 2,
     "metadata": {},
     "output_type": "execute_result"
    }
   ],
   "source": [
    "class Addition:\n",
    "    def add(self,a,b):\n",
    "        return a+b\n",
    "    def add(self,a,b,c):\n",
    "        return a+b+c\n",
    "    def add(self,a,b,c,d,e):\n",
    "        return a+b+c+d+e\n",
    "    \n",
    "ob=Addition()\n",
    "ob.add(2,1,5,7,8)"
   ]
  },
  {
   "cell_type": "markdown",
   "id": "073c83de",
   "metadata": {},
   "source": [
    "Python doesn't support method overloading directly, but we can achieve it through default argument method or or arbitrary argument"
   ]
  },
  {
   "cell_type": "code",
   "execution_count": 1,
   "id": "e333cca4",
   "metadata": {},
   "outputs": [
    {
     "data": {
      "text/plain": [
       "3"
      ]
     },
     "execution_count": 1,
     "metadata": {},
     "output_type": "execute_result"
    }
   ],
   "source": [
    "class Addition:\n",
    "    def add(self,a,b,c=0,d=0):\n",
    "        # if c==None and d==None:\n",
    "        #     return a+b\n",
    "        # elif d==None:\n",
    "        #     return a+b+c\n",
    "        # else:\n",
    "            return a+b+c+d\n",
    "        \n",
    "\n",
    "    \n",
    "ob=Addition()\n",
    "ob.add(2,1)"
   ]
  },
  {
   "cell_type": "markdown",
   "id": "9839907e",
   "metadata": {},
   "source": [
    "<u>Method Overriding</u>"
   ]
  },
  {
   "cell_type": "code",
   "execution_count": 7,
   "id": "a127d8c1",
   "metadata": {},
   "outputs": [
    {
     "name": "stdout",
     "output_type": "stream",
     "text": [
      "Animals make different sounds\n",
      "Dog Barks\n",
      "Cat Meows\n"
     ]
    }
   ],
   "source": [
    "class Animal:\n",
    "    def sound(self):\n",
    "        print(\"Animals make different sounds\")\n",
    "\n",
    "class Dog(Animal):\n",
    "    def sound(self):\n",
    "        print(\"Dog Barks\")\n",
    "\n",
    "class Cat(Animal):\n",
    "    def sound(self):\n",
    "        print(\"Cat Meows\")\n",
    "\n",
    "a=Animal()\n",
    "d=Dog()\n",
    "c=Cat()\n",
    "\n",
    "a.sound()\n",
    "d.sound()\n",
    "c.sound()\n"
   ]
  },
  {
   "cell_type": "code",
   "execution_count": 8,
   "id": "beaeda73",
   "metadata": {},
   "outputs": [
    {
     "name": "stdout",
     "output_type": "stream",
     "text": [
      "Withdrawal successful. Remaining balance: 20000\n",
      "Withdrawal limit exceeded! Max limit is 20000.\n",
      "Withdrawal successful. Remaining balance: 35000\n"
     ]
    }
   ],
   "source": [
    "# Parent class\n",
    "class BankAccount:\n",
    "    def __init__(self, account_holder, balance):\n",
    "        self.account_holder = account_holder\n",
    "        self.balance = balance\n",
    "\n",
    "    def withdraw(self, amount):\n",
    "        if amount <= self.balance:\n",
    "            self.balance -= amount\n",
    "            print(f\"Withdrawal successful. Remaining balance: {self.balance}\")\n",
    "        else:\n",
    "            print(\"Insufficient funds.\")\n",
    "\n",
    "# Child class overriding method\n",
    "class SavingsAccount(BankAccount):\n",
    "    def withdraw(self, amount):   # overriding parent method\n",
    "        if amount > 20000:\n",
    "            print(\"Withdrawal limit exceeded! Max limit is 20000.\")\n",
    "        else:\n",
    "            super().withdraw(amount)  # call parent class withdraw()\n",
    "\n",
    "# Example usage\n",
    "acc1 = BankAccount(\"Sneha\", 50000)\n",
    "acc2 = SavingsAccount(\"Rahul\", 50000)\n",
    "\n",
    "acc1.withdraw(30000)   # Parent method\n",
    "acc2.withdraw(25000)   # Overridden method in child\n",
    "acc2.withdraw(15000)   # Calls parent using super()\n"
   ]
  },
  {
   "cell_type": "markdown",
   "id": "7388bc6f",
   "metadata": {},
   "source": [
    "1. Create two classes Dog and Cat. Both should have a method sound(). Write a function that accepts an object and calls its sound() method.\n",
    "2. Define a parent class Shape with a method area(). Create subclasses Circle and Square that override the area() method. Demonstrate polymorphism.\n",
    "3. Create a class Vehicle with a method move(). Derive Car, Bike, and Boat classes that override move(). Show polymorphism by iterating through objects in a list.\n",
    "4. Create an E-commerce Cart system where different product classes (Electronics, Clothing, Groceries) have a method get_discounted_price(). Demonstrate polymorphism by applying discounts for each item type differently.\n",
    "\n",
    "5. Create a base class Payment with a method process_payment(amount).\n",
    "Derive CreditCardPayment, DebitCardPayment, and PayPalPayment.\n",
    "Demonstrate polymorphism by processing payments through different methods.\n",
    "\n",
    "6. Design a class hierarchy for a University:\n",
    "Base class: Person (with method get_role())\n",
    "Derived classes: Student, Teacher, Staff (override get_role())\n",
    "Show polymorphism by calling get_role() on different types of people."
   ]
  },
  {
   "cell_type": "code",
   "execution_count": 6,
   "id": "99b446b2",
   "metadata": {},
   "outputs": [
    {
     "name": "stdout",
     "output_type": "stream",
     "text": [
      "Cat meows\n"
     ]
    }
   ],
   "source": [
    "class Dog:\n",
    "    def sound(self):\n",
    "        print(\"Dog barks\")\n",
    "class Cat:\n",
    "    def sound(self):\n",
    "        print(\"Cat meows\")\n",
    "\n",
    "def action(object):\n",
    "    object.sound()\n",
    "\n",
    "d=Dog()\n",
    "c=Cat()\n",
    "action(c)"
   ]
  },
  {
   "cell_type": "markdown",
   "id": "4078a06f",
   "metadata": {},
   "source": [
    "<u>Duck typing</u>"
   ]
  },
  {
   "cell_type": "markdown",
   "id": "ac6dc89d",
   "metadata": {},
   "source": [
    "One function is behave like another is called duck typing"
   ]
  },
  {
   "cell_type": "code",
   "execution_count": 5,
   "id": "61b6493b",
   "metadata": {},
   "outputs": [
    {
     "name": "stdout",
     "output_type": "stream",
     "text": [
      "Student learns new concepts and practices them.\n"
     ]
    }
   ],
   "source": [
    "class Teacher:\n",
    "    def action(self):\n",
    "        print(\"Teacher teaches students in the classroom.\")\n",
    "\n",
    "class Student:\n",
    "    def action(self):\n",
    "        print(\"Student learns new concepts and practices them.\")\n",
    "\n",
    "class Parent:\n",
    "    def action(self,tchr:Teacher):\n",
    "        tchr.action()\n",
    "\n",
    "t=Teacher()\n",
    "n=Student()\n",
    "p=Parent()\n",
    "p.action(n)\n"
   ]
  },
  {
   "cell_type": "code",
   "execution_count": 12,
   "id": "682a0a4d",
   "metadata": {},
   "outputs": [
    {
     "name": "stdout",
     "output_type": "stream",
     "text": [
      "Teacher teaches students in the classroom.\n",
      "Student learns new concepts and practices them.\n",
      "Parent guides and supports the child at home.\n"
     ]
    }
   ],
   "source": [
    "class Teacher:\n",
    "    def action(self):\n",
    "        print(\"Teacher teaches students in the classroom.\")\n",
    "\n",
    "class Student:\n",
    "    def action(self):\n",
    "        print(\"Student learns new concepts and practices them.\")\n",
    "\n",
    "class Parent:\n",
    "    def action(self):\n",
    "        print(\"Parent guides and supports the child at home.\")\n",
    "\n",
    "# Function that uses duck typing\n",
    "def perform_action(person):\n",
    "    person.action()\n",
    "\n",
    "# Objects\n",
    "t = Teacher()\n",
    "s = Student()\n",
    "p = Parent()\n",
    "\n",
    "# Function calls\n",
    "perform_action(t)   # Teacher's action\n",
    "perform_action(s)   # Student's action\n",
    "perform_action(p)   # Parent's action\n"
   ]
  },
  {
   "cell_type": "markdown",
   "id": "a9b631cd",
   "metadata": {},
   "source": [
    "<u>Operator overloading</u>"
   ]
  },
  {
   "cell_type": "code",
   "execution_count": 15,
   "id": "ef8a9e3d",
   "metadata": {},
   "outputs": [
    {
     "name": "stdout",
     "output_type": "stream",
     "text": [
      "100150\n"
     ]
    }
   ],
   "source": [
    "class Book:\n",
    "    def __init__(self, pages):\n",
    "        self.pages = pages\n",
    "\n",
    "    # Overloading '+' operator\n",
    "    def __add__(self, other):\n",
    "        return self.pages + other.pages\n",
    "    \n",
    "b1 = Book(\"100\")\n",
    "b2 = Book(\"150\")\n",
    "\n",
    "print(b1 + b2)   # Calls __add__ → 250\n",
    "\n"
   ]
  }
 ],
 "metadata": {
  "kernelspec": {
   "display_name": "base",
   "language": "python",
   "name": "python3"
  },
  "language_info": {
   "codemirror_mode": {
    "name": "ipython",
    "version": 3
   },
   "file_extension": ".py",
   "mimetype": "text/x-python",
   "name": "python",
   "nbconvert_exporter": "python",
   "pygments_lexer": "ipython3",
   "version": "3.12.4"
  }
 },
 "nbformat": 4,
 "nbformat_minor": 5
}
