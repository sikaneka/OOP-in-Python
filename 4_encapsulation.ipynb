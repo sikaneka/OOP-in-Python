{
 "cells": [
  {
   "cell_type": "markdown",
   "id": "e2cb765d",
   "metadata": {},
   "source": [
    "# ENCAPSULATION"
   ]
  },
  {
   "cell_type": "markdown",
   "id": "e8128cf8",
   "metadata": {},
   "source": [
    "concept of restricting direct access to variables and methods of a class and controlling it through well-defined interfaces.\n",
    "\n",
    "Data hiding – Prevents accidental modification of variables.\n",
    "Controlled access – Data can be accessed via getters and setters.\n",
    "Flexibility – Internal representation can be changed without affecting external code.\n",
    "Security – Sensitive data stays safe."
   ]
  },
  {
   "cell_type": "markdown",
   "id": "cf9d0ce8",
   "metadata": {},
   "source": [
    "<u> Public members</u>\n",
    "\n",
    "Accessible from anywhere."
   ]
  },
  {
   "cell_type": "code",
   "execution_count": 1,
   "id": "7888a791",
   "metadata": {},
   "outputs": [
    {
     "name": "stdout",
     "output_type": "stream",
     "text": [
      "Sneha\n",
      "20\n"
     ]
    }
   ],
   "source": [
    "class Student:\n",
    "    def __init__(self, name, age):\n",
    "        self.name = name    # public\n",
    "        self.age = age      # public\n",
    "\n",
    "s = Student(\"Sneha\", 20)\n",
    "print(s.name)  # Accessible\n",
    "print(s.age)   # Accessible\n"
   ]
  },
  {
   "cell_type": "markdown",
   "id": "81845ab7",
   "metadata": {},
   "source": [
    "<u>Protected Members</u>\n",
    "\n",
    "Indicated by a single underscore (_).\n",
    "Treated as “protected” (not enforced, but a convention).\n"
   ]
  },
  {
   "cell_type": "code",
   "execution_count": null,
   "id": "635ccdcd",
   "metadata": {},
   "outputs": [
    {
     "ename": "AttributeError",
     "evalue": "'GraduateStudent' object has no attribute '__name'",
     "output_type": "error",
     "traceback": [
      "\u001b[1;31m---------------------------------------------------------------------------\u001b[0m",
      "\u001b[1;31mAttributeError\u001b[0m                            Traceback (most recent call last)",
      "Cell \u001b[1;32mIn[15], line 26\u001b[0m\n\u001b[0;32m     23\u001b[0m \u001b[38;5;66;03m# --- Usage ---\u001b[39;00m\n\u001b[0;32m     24\u001b[0m g \u001b[38;5;241m=\u001b[39m GraduateStudent(\u001b[38;5;124m\"\u001b[39m\u001b[38;5;124mSneha\u001b[39m\u001b[38;5;124m\"\u001b[39m, \u001b[38;5;241m88\u001b[39m, \u001b[38;5;124m\"\u001b[39m\u001b[38;5;124mMSc Computer Science\u001b[39m\u001b[38;5;124m\"\u001b[39m)\n\u001b[1;32m---> 26\u001b[0m g\u001b[38;5;241m.\u001b[39m__name\n\u001b[0;32m     27\u001b[0m \u001b[38;5;66;03m# Accessing protected members safely using methods\u001b[39;00m\n\u001b[0;32m     28\u001b[0m g\u001b[38;5;241m.\u001b[39mshow_graduate_details()\n",
      "\u001b[1;31mAttributeError\u001b[0m: 'GraduateStudent' object has no attribute '__name'"
     ]
    }
   ],
   "source": [
    "class Student:\n",
    "    def __init__(self, name, marks):\n",
    "        self._name = name      # protected attribute\n",
    "        self._marks = marks    # protected attribute\n",
    "\n",
    "    # Method to access protected members\n",
    "    def show_details(self):\n",
    "        print(f\"Name: {self._name}, Marks: {self._marks}\")\n",
    "\n",
    "\n",
    "class GraduateStudent(Student):\n",
    "    def __init__(self, name, marks, degree):\n",
    "        super().__init__(name, marks)\n",
    "        self._degree = degree\n",
    "\n",
    "    # Subclass method accessing protected member\n",
    "    def show_graduate_details(self):\n",
    "        # Accessing parent class protected members using methods\n",
    "        self.show_details()  \n",
    "        print(f\"Degree: {self._degree}\")\n",
    "\n",
    "\n",
    "# --- Usage ---\n",
    "g = GraduateStudent(\"Sneha\", 88, \"MSc Computer Science\")\n",
    "print(g._degree)\n",
    "\n",
    "# Accessing protected members safely using methods\n",
    "g.show_graduate_details()\n"
   ]
  },
  {
   "cell_type": "code",
   "execution_count": 2,
   "id": "e67ed70d",
   "metadata": {},
   "outputs": [
    {
     "name": "stdout",
     "output_type": "stream",
     "text": [
      "Sneha\n"
     ]
    }
   ],
   "source": [
    "class Student:\n",
    "    def __init__(self, name, age):\n",
    "        self._name = name   # protected\n",
    "        self._age = age\n",
    "\n",
    "s = Student(\"Sneha\", 20)\n",
    "print(s._name)  # Possible, but not recommended (should be accessed in subclass only)\n"
   ]
  },
  {
   "cell_type": "code",
   "execution_count": null,
   "id": "94dfc3ec",
   "metadata": {},
   "outputs": [
    {
     "name": "stdout",
     "output_type": "stream",
     "text": [
      "Employee: Sneha, Salary: 60000\n",
      "Department: IT\n",
      "Employee: Sneha, Salary: 60000\n"
     ]
    }
   ],
   "source": [
    "class Employee:\n",
    "    def __init__(self, name, salary):\n",
    "        self._name = name       # protected attribute\n",
    "        self._salary = salary   # protected attribute\n",
    "\n",
    "    # Protected method\n",
    "    def _show_details(self):\n",
    "        print(f\"Employee: {self._name}, Salary: {self._salary}\")\n",
    "\n",
    "\n",
    "class Manager(Employee):   # subclass\n",
    "    def __init__(self, name, salary, department):\n",
    "        super().__init__(name, salary)\n",
    "        self._department = department\n",
    "\n",
    "    # Accessing protected method from parent class\n",
    "    def show_manager_details(self):\n",
    "        self._show_details()  # llowed in subclass\n",
    "        print(f\"Department: {self._department}\")\n",
    "\n",
    "\n",
    "# --- Usage ---\n",
    "m = Manager(\"Sneha\", 60000, \"IT\")\n",
    "m.show_manager_details()\n",
    "\n",
    "# Accessing protected method directly (possible, but not recommended)\n",
    "m._show_details()   # Allowed but breaks encapsulation rule\n"
   ]
  },
  {
   "cell_type": "markdown",
   "id": "33ce570a",
   "metadata": {},
   "source": [
    "<u>Private Members</u>\n",
    "\n",
    "Indicated by double underscore (__).\n",
    "Name-mangled by Python (classname is added internally).\n"
   ]
  },
  {
   "cell_type": "code",
   "execution_count": 3,
   "id": "87bef5c2",
   "metadata": {},
   "outputs": [
    {
     "name": "stdout",
     "output_type": "stream",
     "text": [
      "Name: Sneha, Age: 20\n"
     ]
    }
   ],
   "source": [
    "class Student:\n",
    "    def __init__(self, name, age):\n",
    "        self.__name = name   # private\n",
    "        self.__age = age\n",
    "\n",
    "    def display(self):\n",
    "        print(f\"Name: {self.__name}, Age: {self.__age}\")\n",
    "\n",
    "\n",
    "s = Student(\"Sneha\", 20)\n",
    "# print(s.__name)   # Error (AttributeError)\n",
    "s.display()  #  Correct way\n",
    "\n",
    "\n"
   ]
  },
  {
   "cell_type": "code",
   "execution_count": 5,
   "id": "b920d5d4",
   "metadata": {},
   "outputs": [
    {
     "name": "stdout",
     "output_type": "stream",
     "text": [
      "Sneha\n"
     ]
    }
   ],
   "source": [
    "print(s._Student__name)  # Works, but breaks encapsulation\n"
   ]
  },
  {
   "cell_type": "code",
   "execution_count": 6,
   "id": "7b927fbc",
   "metadata": {},
   "outputs": [
    {
     "name": "stdout",
     "output_type": "stream",
     "text": [
      "1000\n",
      "2000\n",
      "Balance cannot be negative\n"
     ]
    }
   ],
   "source": [
    "class BankAccount:\n",
    "    def __init__(self, balance):\n",
    "        self.__balance = balance  # private variable\n",
    "\n",
    "    # Getter method\n",
    "    def get_balance(self):\n",
    "        return self.__balance\n",
    "\n",
    "    # Setter method\n",
    "    def set_balance(self, amount):\n",
    "        if amount < 0:\n",
    "            print(\"Balance cannot be negative\")\n",
    "        else:\n",
    "            self.__balance = amount\n",
    "\n",
    "account = BankAccount(1000)\n",
    "print(account.get_balance())   # 1000\n",
    "account.set_balance(2000)\n",
    "print(account.get_balance())   # 2000\n",
    "account.set_balance(-500)      # Not allowed\n"
   ]
  },
  {
   "cell_type": "code",
   "execution_count": null,
   "id": "9838b24b",
   "metadata": {},
   "outputs": [
    {
     "name": "stdout",
     "output_type": "stream",
     "text": [
      "Sneha\n",
      "Ananya\n"
     ]
    }
   ],
   "source": [
    "class Student:\n",
    "    def __init__(self, name, age):\n",
    "        self.__name = name    # private\n",
    "        self.__age = age      # private\n",
    "\n",
    "    # Getter method\n",
    "    def get_name(self):\n",
    "        return self.__name\n",
    "\n",
    "    # Setter method\n",
    "    def set_name(self, new_name):\n",
    "        self.__name = new_name\n",
    "\n",
    "# create object\n",
    "s = Student(\"Sneha\", 21)\n",
    "\n",
    "# Access private variable using getter\n",
    "print(s.get_name())   \n",
    "\n",
    "# Modify private variable using setter\n",
    "s.set_name(\"Ananya\")\n",
    "print(s.get_name())  \n"
   ]
  },
  {
   "cell_type": "markdown",
   "id": "f2f7d632",
   "metadata": {},
   "source": [
    "# PRACTICE QUESTIONS"
   ]
  },
  {
   "cell_type": "markdown",
   "id": "6b6a6afc",
   "metadata": {},
   "source": [
    "\n",
    "2. Create a class LibraryBook with private attributes __title, __author, __is_checked_out.\n",
    "Provide methods checkout() and return_book(). Ensure a book can’t be checked out twice.\n",
    "3. Define a class Employee with private attributes __name, __salary.\n",
    "Add a method to give raise (salary should not go below minimum wage, say 5000).\n",
    "4. Create a class Laptop with private attributes __brand, __price.\n",
    "Provide methods to apply discount but ensure price never goes below zero."
   ]
  },
  {
   "cell_type": "code",
   "execution_count": null,
   "id": "5ccabc09",
   "metadata": {},
   "outputs": [],
   "source": [
    "\n",
    "# 1. Implement a class User with private attributes __username and __password.\n",
    "# Provide methods to change password (only if old password is correct).\n",
    "class User:\n",
    "    def __init__(self, username, password):\n",
    "        self.__username = username    # private attribute\n",
    "        self.__password = password    # private attribute\n",
    "\n",
    "    # Getter method for username\n",
    "    def get_username(self):\n",
    "        return self.__username\n",
    "\n",
    "    # Method to change password\n",
    "    def change_password(self, old_password, new_password):\n",
    "        if old_password == self.__password:\n",
    "            self.__password = new_password\n",
    "            print(\"Password changed successfully!\")\n",
    "        else:\n",
    "            print(\"Incorrect old password. Try again.\")\n",
    "\n",
    "    # Just for testing (not usually exposed)\n",
    "    def check_password(self, password):\n",
    "        return password == self.__password\n",
    "\n",
    "\n",
    "# --- Usage ---\n",
    "user1 = User(\"Sneha\", \"12345\")\n",
    "\n",
    "print(\"Username:\", user1.get_username())   # Access username safely\n",
    "\n",
    "# Trying to change password\n",
    "user1.change_password(\"wrongpass\", \"newpass\")   # Incorrect old password\n",
    "user1.change_password(\"12345\", \"newpass\")       # Correct old password\n",
    "\n",
    "# Verifying\n",
    "print(\"Password correct?\", user1.check_password(\"newpass\"))  # True\n"
   ]
  },
  {
   "cell_type": "code",
   "execution_count": null,
   "id": "3266bdb5",
   "metadata": {},
   "outputs": [
    {
     "name": "stdout",
     "output_type": "stream",
     "text": [
      "'The Alchemist' by Paulo Coelho | Status: Available\n",
      "'The Alchemist' by Paulo Coelho has been checked out.\n",
      "Sorry! 'The Alchemist' is already checked out.\n",
      "'The Alchemist' has been returned.\n",
      "'The Alchemist' was not checked out.\n"
     ]
    }
   ],
   "source": [
    "# 2. Create a class LibraryBook with private attributes __title, __author, __is_checked_out.\n",
    "# Provide methods checkout() and return_book(). Ensure a book can’t be checked out twice.\n",
    "class LibraryBook:\n",
    "    def __init__(self, title, author):\n",
    "        self.__title = title\n",
    "        self.__author = author\n",
    "        self.__is_checked_out = False   # Initially book is available\n",
    "\n",
    "    def checkout(self):\n",
    "        if not self.__is_checked_out:\n",
    "            self.__is_checked_out = True\n",
    "            print(f\"'{self.__title}' by {self.__author} has been checked out.\")\n",
    "        else:\n",
    "            print(f\"Sorry! '{self.__title}' is already checked out.\")\n",
    "\n",
    "    def return_book(self):\n",
    "        if self.__is_checked_out:\n",
    "            self.__is_checked_out = False\n",
    "            print(f\"'{self.__title}' has been returned.\")\n",
    "        else:\n",
    "            print(f\"'{self.__title}' was not checked out.\")\n",
    "\n",
    "    def book_info(self):\n",
    "        status = \"Available\" if not self.__is_checked_out else \"Checked Out\"\n",
    "        return f\"'{self.__title}' by {self.__author} | Status: {status}\"\n",
    "\n",
    "\n",
    "\n",
    "book1 = LibraryBook(\"Wings of fire\", \"APJ\")\n",
    "\n",
    "print(book1.book_info())    # Should show available\n",
    "book1.checkout()            # First checkout → works\n",
    "book1.checkout()            # Second checkout → not allowed\n",
    "book1.return_book()         # Returning the book\n",
    "book1.return_book()         # Returning again → not allowed\n"
   ]
  },
  {
   "cell_type": "code",
   "execution_count": null,
   "id": "e2370952",
   "metadata": {},
   "outputs": [],
   "source": []
  },
  {
   "cell_type": "code",
   "execution_count": null,
   "id": "a3025372",
   "metadata": {},
   "outputs": [],
   "source": [
    "class LibraryBook:\n",
    "    def __init__(self, title, author):\n",
    "        self.__title = title\n",
    "        self.__author = author\n",
    "        self.__is_checked_out = False   # initially available\n",
    "\n",
    "    # Getter method\n",
    "    def get_info(self):\n",
    "        status = \"Checked Out\" if self.__is_checked_out else \"Available\"\n",
    "        return f\"'{self.__title}' by {self.__author} - {status}\"\n",
    "\n",
    "    # Method to checkout the book\n",
    "    def checkout(self):\n",
    "        if self.__is_checked_out:\n",
    "            print(f\"Sorry, '{self.__title}' is already checked out.\")\n",
    "        else:\n",
    "            self.__is_checked_out = True\n",
    "            print(f\"You have successfully checked out '{self.__title}'.\")\n",
    "\n",
    "    # Method to return the book\n",
    "    def return_book(self):\n",
    "        if not self.__is_checked_out:\n",
    "            print(f\"'{self.__title}' was not checked out.\")\n",
    "        else:\n",
    "            self.__is_checked_out = False\n",
    "            print(f\"'{self.__title}' has been returned. Thank you!\")\n",
    "\n",
    "\n",
    "# --- Usage ---\n",
    "book1 = LibraryBook(\"Python Programming\", \"John Smith\")\n",
    "\n",
    "print(book1.get_info())   # Initially available\n",
    "book1.checkout()          # Checkout the book\n",
    "book1.checkout()          # Try to checkout again (should fail)\n",
    "print(book1.get_info())   # Show status\n",
    "book1.return_book()       # Return book\n",
    "book1.return_book()       # Try to return again (should fail)\n"
   ]
  }
 ],
 "metadata": {
  "kernelspec": {
   "display_name": "base",
   "language": "python",
   "name": "python3"
  },
  "language_info": {
   "codemirror_mode": {
    "name": "ipython",
    "version": 3
   },
   "file_extension": ".py",
   "mimetype": "text/x-python",
   "name": "python",
   "nbconvert_exporter": "python",
   "pygments_lexer": "ipython3",
   "version": "3.12.4"
  }
 },
 "nbformat": 4,
 "nbformat_minor": 5
}
