{
 "cells": [
  {
   "cell_type": "markdown",
   "id": "9e518b60",
   "metadata": {},
   "source": [
    "# Object oriented Programming"
   ]
  },
  {
   "cell_type": "markdown",
   "id": "b2776c71",
   "metadata": {},
   "source": [
    "## OOP and POP"
   ]
  },
  {
   "cell_type": "markdown",
   "id": "0c2ba540",
   "metadata": {},
   "source": [
    "<li> POP stads for Procedural oriented Programming-A paradigm where program is divided into small parts called functions or procedures</li>\n",
    "\n",
    "* The focus is on functions.\n",
    "* Data and functions are separate.\n",
    "\n",
    "<li>Limitation <li>\n",
    "* If you pass the wrong data to a function, errors happen.\n",
    "* Data isn’t protected—any function can modify it.\n",
    "* Functions are scattered everywhere, and data isn’t tied closely to them.”"
   ]
  },
  {
   "cell_type": "code",
   "execution_count": null,
   "id": "ea5df270",
   "metadata": {},
   "outputs": [
    {
     "name": "stdout",
     "output_type": "stream",
     "text": [
      "Final Balance: 700\n"
     ]
    }
   ],
   "source": [
    "# POP\n",
    "car1_brand = \"Toyota\"\n",
    "car2_brand = \"BMW\"\n",
    "\n",
    "def start_car(brand):\n",
    "    print(brand, \"car started\")\n",
    "\n",
    "start_car(car1_brand)  # Must pass brand each time\n",
    "start_car(car2_brand)\n",
    "\n"
   ]
  },
  {
   "cell_type": "markdown",
   "id": "a054f98b",
   "metadata": {},
   "source": [
    "<li> OOP (Object-Oriented Programming) in Python is a way of writing programs by organizing data and functions together into objects. Instead of just writing functions and variables separately, we bundle them inside classes. A class is like a blueprint, and an object is something built from that blueprint.</li> \n",
    "* OOP in Python is a paradigm where programs are structured around objects and classes. A class defines the structure (attributes and methods), and objects are instances of these classes. Python fully supports OOP concepts like encapsulation, inheritance, polymorphism, and abstraction. It also provides special features such as magic (dunder) methods, class methods, and static methods to implement advanced OOP designs\n"
   ]
  },
  {
   "cell_type": "markdown",
   "id": "72368521",
   "metadata": {},
   "source": [
    "<u>class</u>"
   ]
  },
  {
   "cell_type": "markdown",
   "id": "a2805ed5",
   "metadata": {},
   "source": [
    "* class - A class is a blueprint for creating objects.It defines the data(attributes) and actions (methods) that the object will have\n",
    "    * Attributes - variables inside a class\n",
    "    * Methods - Functions inside a class\n"
   ]
  },
  {
   "cell_type": "markdown",
   "id": "a1b99403",
   "metadata": {},
   "source": [
    "<u>Syntax</u>"
   ]
  },
  {
   "cell_type": "code",
   "execution_count": null,
   "id": "748adf6e",
   "metadata": {},
   "outputs": [],
   "source": [
    "class ClassName:\n",
    "    #attributes (variables)\n",
    "    #methods (functions)\n",
    "    pass"
   ]
  },
  {
   "cell_type": "code",
   "execution_count": null,
   "id": "60ddaabf",
   "metadata": {},
   "outputs": [
    {
     "name": "stdout",
     "output_type": "stream",
     "text": [
      "Hello\n",
      "None\n"
     ]
    }
   ],
   "source": [
    "class Car:\n",
    "    # attributes\n",
    "    brand = \"Toyota\"\n",
    "    color = \"Red\"\n",
    "\n",
    "    # method\n",
    "    def drive():\n",
    "        print(\"Hello\")\n",
    "print(Car.drive())\n",
    "\n"
   ]
  },
  {
   "cell_type": "code",
   "execution_count": 11,
   "id": "90303c4f",
   "metadata": {},
   "outputs": [
    {
     "name": "stdout",
     "output_type": "stream",
     "text": [
      "Red\n"
     ]
    }
   ],
   "source": [
    "a = Car()\n",
    "a.drive()"
   ]
  },
  {
   "cell_type": "markdown",
   "id": "31c763de",
   "metadata": {},
   "source": [
    "<u>object</u>"
   ]
  },
  {
   "cell_type": "markdown",
   "id": "92931678",
   "metadata": {},
   "source": [
    "* object - It is an instance (real version) of a class\n",
    "* Creating objects by calling the class like a function"
   ]
  },
  {
   "cell_type": "code",
   "execution_count": 3,
   "id": "d031cb96",
   "metadata": {},
   "outputs": [
    {
     "ename": "TypeError",
     "evalue": "Car.__init__() takes 2 positional arguments but 3 were given",
     "output_type": "error",
     "traceback": [
      "\u001b[1;31m---------------------------------------------------------------------------\u001b[0m",
      "\u001b[1;31mTypeError\u001b[0m                                 Traceback (most recent call last)",
      "Cell \u001b[1;32mIn[3], line 10\u001b[0m\n\u001b[0;32m      7\u001b[0m         \u001b[38;5;28mprint\u001b[39m(\u001b[38;5;124m\"\u001b[39m\u001b[38;5;124mCar is driving\u001b[39m\u001b[38;5;124m\"\u001b[39m)\n\u001b[0;32m      9\u001b[0m \u001b[38;5;66;03m# Try creating object\u001b[39;00m\n\u001b[1;32m---> 10\u001b[0m c \u001b[38;5;241m=\u001b[39m Car(\u001b[38;5;124m\"\u001b[39m\u001b[38;5;124mBMW\u001b[39m\u001b[38;5;124m\"\u001b[39m, \u001b[38;5;124m\"\u001b[39m\u001b[38;5;124mBlack\u001b[39m\u001b[38;5;124m\"\u001b[39m)\n",
      "\u001b[1;31mTypeError\u001b[0m: Car.__init__() takes 2 positional arguments but 3 were given"
     ]
    }
   ],
   "source": [
    "class Car:\n",
    "    def __init__(brand, color):   # forgot self\n",
    "        brand = brand\n",
    "        color = color\n",
    "\n",
    "    def drive():\n",
    "        print(\"Car is driving\")\n",
    "\n",
    "# Try creating object\n",
    "c = Car(\"BMW\", \"Black\")\n"
   ]
  },
  {
   "cell_type": "markdown",
   "id": "8355de4c",
   "metadata": {},
   "source": [
    "<u> Variables</u>\n",
    "class variables:\n",
    "    * common variables to the class\n",
    "    * all object share this variable content"
   ]
  },
  {
   "cell_type": "code",
   "execution_count": 23,
   "id": "7586870a",
   "metadata": {},
   "outputs": [
    {
     "name": "stdout",
     "output_type": "stream",
     "text": [
      "Toyota\n",
      "Red Toyota thris driving.\n",
      "Red\n",
      "Black\n"
     ]
    }
   ],
   "source": [
    "class Car:\n",
    "    brand = \"Toyota\"\n",
    "    color = \"Red\"\n",
    "    def __init__(self,model):\n",
    "        self.model=model\n",
    "\n",
    "    def drive(self):\n",
    "        print(f\"{self.color} {self.brand} {self.model}is driving.\")\n",
    "\n",
    "# Creating objects\n",
    "car1 = Car(\"thr\")\n",
    "car2 = Car(\"kil\")\n",
    "car3 = Car(\"it\")\n",
    "\n",
    "print(car1.brand)   \n",
    "car1.drive()        \n",
    "car2.color = \"Black\"\n",
    "car3.color = \"White\"\n",
    "\n",
    "print(car1.color)  # Black\n",
    "print(car2.color)  # White\n",
    "\n",
    "# Each object can hold its own values, even if they come from the same class"
   ]
  },
  {
   "cell_type": "markdown",
   "id": "bddf9d6d",
   "metadata": {},
   "source": [
    "<u>__init__ constructor</u>"
   ]
  },
  {
   "cell_type": "markdown",
   "id": "2c19a1f8",
   "metadata": {},
   "source": [
    "* Special method in Python classes.\n",
    "* Runs automatically when a new object is created.\n",
    "* Initializes object’s attributes."
   ]
  },
  {
   "cell_type": "code",
   "execution_count": 19,
   "id": "73959068",
   "metadata": {},
   "outputs": [
    {
     "name": "stdout",
     "output_type": "stream",
     "text": [
      "Toyota car started\n",
      "BMW car started\n"
     ]
    }
   ],
   "source": [
    "# OOP\n",
    "class Car:\n",
    "    def __init__(self, brand):\n",
    "        self.brand = brand\n",
    "    \n",
    "    def start(self):\n",
    "        print(self.brand, \"car started\")\n",
    "\n",
    "car1 = Car(\"Toyota\")\n",
    "car2 = Car(\"BMW\")\n",
    "\n",
    "car1.start()   # Automatically uses \"Toyota\"\n",
    "car2.start()   # Automatically uses \"BMW\"\n"
   ]
  },
  {
   "cell_type": "markdown",
   "id": "df88fbe8",
   "metadata": {},
   "source": [
    "* self - refers to current object\n",
    "* without self, attributes would not be attached to the object"
   ]
  },
  {
   "cell_type": "markdown",
   "id": "ab6b0786",
   "metadata": {},
   "source": [
    "1. create a student class with attributes name and age and display the details of 2 student\n",
    "2. class book with author and price\n",
    "3. class car with brand and model"
   ]
  },
  {
   "cell_type": "code",
   "execution_count": 21,
   "id": "a836251c",
   "metadata": {},
   "outputs": [
    {
     "name": "stdout",
     "output_type": "stream",
     "text": [
      "Student Nmae: Nila\n",
      "Student age: 29\n"
     ]
    }
   ],
   "source": [
    "class Student:\n",
    "    def __init__(self,name,age):\n",
    "        self.name=name\n",
    "        self.age=age\n",
    "    def display(self):\n",
    "        print(f\"Student Nmae: {self.name}\\nStudent age: {self.age}\")\n",
    "\n",
    "a=Student(\"Nila\",29)\n",
    "a.display()"
   ]
  },
  {
   "cell_type": "code",
   "execution_count": null,
   "id": "7e5f933e",
   "metadata": {},
   "outputs": [
    {
     "name": "stdout",
     "output_type": "stream",
     "text": [
      "<__main__.student object at 0x000001A76AB39430>\n",
      "Learn Logic\n",
      "12 niha\n",
      "13 MHKP\n"
     ]
    }
   ],
   "source": [
    "class student:\n",
    "    institute = \"Learn Logic\"\n",
    "    place = \"Manjeri\"\n",
    "\n",
    "    def __init__(self,id,name):\n",
    "        self.id=id\n",
    "        self.name=name\n",
    "    def display_details(self,id,name):\n",
    "        print(id,name)\n",
    "obj1=student(12,\"sneha\")\n",
    "print(obj1)\n",
    "print(obj1.institute)\n",
    "obj1.display_details(12,\"niha\")\n",
    "obj2=student(13,\"Nila\")\n",
    "obj2.display_details(13,\"MHKP\")"
   ]
  },
  {
   "cell_type": "markdown",
   "id": "afd827cd",
   "metadata": {},
   "source": [
    "## Practice Questions"
   ]
  },
  {
   "cell_type": "code",
   "execution_count": null,
   "id": "154229c7",
   "metadata": {},
   "outputs": [],
   "source": [
    "# Create a class BankAccount with attributes account_number and balance. Add methods deposit(amount) and withdraw(amount) to modify the balance.\n",
    "class BankAccount:\n",
    "    branch=\"ABC\"\n",
    "    def __init__(self,account_number,balance):\n",
    "        self.account_number=account_number\n",
    "        self.balance=balance\n",
    "    def deposit(self,amount):\n",
    "        if amount>0:\n",
    "            self.balance+=amount\n",
    "        else:\n",
    "            print(\"enter a valid amount\")\n",
    "    def withdraw(self,amount):\n",
    "        if self.balance<"
   ]
  },
  {
   "cell_type": "code",
   "execution_count": 16,
   "id": "017584da",
   "metadata": {},
   "outputs": [
    {
     "name": "stdout",
     "output_type": "stream",
     "text": [
      "count of object 2\n"
     ]
    }
   ],
   "source": [
    "# Write a class Counter that has a class variable to keep track of how many objects of the class have been created.\n",
    "class Counter:\n",
    "    count=0\n",
    "    def __init__(self):\n",
    "        Counter.count+=1\n",
    "    def display_count():\n",
    "        print(\"count of object\",Counter.count)\n",
    "ob1=Counter()\n",
    "ob2=Counter()\n",
    "Counter.display_count()"
   ]
  },
  {
   "cell_type": "code",
   "execution_count": 17,
   "id": "29ec65e4",
   "metadata": {},
   "outputs": [
    {
     "data": {
      "text/plain": [
       "36.333333333333336"
      ]
     },
     "execution_count": 17,
     "metadata": {},
     "output_type": "execute_result"
    }
   ],
   "source": [
    "# create a class student with attributes name, cource and marks of 3 subjects. Create a method to find the average marks\n",
    "class Student:\n",
    "    def __init__(self,name,cource,mark):\n",
    "        self.name=name\n",
    "        self.cource=cource\n",
    "        self.mark=mark\n",
    "    def average(self):\n",
    "        total=sum(self.mark)/len(self.mark)\n",
    "        return total\n",
    "s1=Student(\"mia\",\"CV\",[21,52,36])\n",
    "s1.average()"
   ]
  },
  {
   "cell_type": "code",
   "execution_count": 18,
   "id": "e8b1dae2",
   "metadata": {},
   "outputs": [
    {
     "name": "stdout",
     "output_type": "stream",
     "text": [
      "3.141592653589793\n"
     ]
    }
   ],
   "source": [
    "import math\n",
    "print(math.pi)"
   ]
  },
  {
   "cell_type": "code",
   "execution_count": null,
   "id": "33e717aa",
   "metadata": {},
   "outputs": [],
   "source": [
    "# Make a class Circle with attribute radius. Add two methods: one to calculate area and another for circumference.\n",
    "\n",
    "# Write a program with a class ShoppingCart that stores items in a list. Add methods to add_item(item) and show_cart()."
   ]
  },
  {
   "cell_type": "markdown",
   "id": "252e9542",
   "metadata": {},
   "source": [
    "## Methods in OOP"
   ]
  },
  {
   "cell_type": "code",
   "execution_count": null,
   "id": "df173b9a",
   "metadata": {},
   "outputs": [
    {
     "name": "stdout",
     "output_type": "stream",
     "text": [
      "ABC\n",
      "ABC\n"
     ]
    }
   ],
   "source": [
    "class school:\n",
    "    school_name=\"ABC\"\n",
    "    def __init__(self,department):\n",
    "        self.dep=department\n",
    "    @classmethod\n",
    "    def display1(cls):\n",
    "        print(school.school_name)\n",
    "        # print(f\"School_name: {school.school_name}\\nDepartment:{self.dep}\")\n",
    "a=school(\"DA\")\n",
    "a.display1()\n",
    "school.display1()\n"
   ]
  },
  {
   "cell_type": "markdown",
   "id": "475b8111",
   "metadata": {},
   "source": [
    "there are 3 types of methods in OOP\n",
    "1. Class method\n",
    "2. Instance method\n",
    "3. Static method"
   ]
  },
  {
   "cell_type": "code",
   "execution_count": null,
   "id": "6a389895",
   "metadata": {},
   "outputs": [
    {
     "name": "stdout",
     "output_type": "stream",
     "text": [
      "Learn Logic\n"
     ]
    }
   ],
   "source": [
    "class student:\n",
    "    institute = \"Learn Logic\"\n",
    "    place = \"Manjeri\"\n",
    "\n",
    "    def __init__(self,id,name):\n",
    "        self.id=id\n",
    "        self.name=name\n",
    "    @classmethod\n",
    "    def common(cls):\n",
    "        print(cls.institute)\n",
    "student.common()"
   ]
  },
  {
   "cell_type": "code",
   "execution_count": 43,
   "id": "1723095a",
   "metadata": {},
   "outputs": [
    {
     "name": "stdout",
     "output_type": "stream",
     "text": [
      "hello world\n"
     ]
    }
   ],
   "source": [
    "class student:\n",
    "    institute = \"Learn Logic\"\n",
    "    place = \"Manjeri\"\n",
    "\n",
    "    def __init__(self,id,name):\n",
    "        self.id=id\n",
    "        self.name=name\n",
    "    @staticmethod\n",
    "    def common():\n",
    "        print(\"hello world\")\n",
    "# student.common()\n",
    "a=student(1,\"t\")\n",
    "a.common()"
   ]
  },
  {
   "cell_type": "code",
   "execution_count": null,
   "id": "631e9d4c",
   "metadata": {},
   "outputs": [
    {
     "name": "stdout",
     "output_type": "stream",
     "text": [
      "mikha k\n",
      "Learn Logic\n",
      "dsfj\n"
     ]
    }
   ],
   "source": [
    "class student:\n",
    "    institute = \"Learn Logic\"\n",
    "    place = \"Manjeri\"\n",
    "\n",
    "    def __init__(self,id,name):\n",
    "        self.id=id\n",
    "        self.name=name\n",
    "    def display_details(self,id,name):\n",
    "        print(id,name)\n",
    "    @classmethod\n",
    "    def common(cls):\n",
    "        print(cls.institute)\n",
    "    @staticmethod\n",
    "    def print_det():\n",
    "        print(\"dsfj\")\n",
    "ob1=student(1,\"nila\")\n",
    "ob1.display_details(\"mikha\",\"k\")\n",
    "student.common()\n",
    "ob1.print_det()\n"
   ]
  },
  {
   "cell_type": "markdown",
   "id": "37b83d40",
   "metadata": {},
   "source": [
    "<u>Multiple classes</u>"
   ]
  },
  {
   "cell_type": "code",
   "execution_count": 8,
   "id": "2e68c602",
   "metadata": {},
   "outputs": [
    {
     "name": "stdout",
     "output_type": "stream",
     "text": [
      "Name: mithun\n",
      "Id: 101\n",
      "Company name: ABCD\n",
      "Loc: calicut\n"
     ]
    }
   ],
   "source": [
    "class Company:\n",
    "    def __init__(self, c_name, loc, dir, c_manager):\n",
    "        self.c_name = c_name\n",
    "        self.loc = loc\n",
    "        self.dir = dir\n",
    "        self.c_manager = c_manager\n",
    "\n",
    "\n",
    "class Employee:\n",
    "    def __init__(self, name, emp_id, age, comp: Company):\n",
    "        self.name = name\n",
    "        self.id = emp_id\n",
    "        self.age = age\n",
    "        self.company = comp\n",
    "\n",
    "    def showDetails(self):\n",
    "        print(f\"Name: {self.name}\\nId: {self.id}\\n\"\n",
    "              f\"Company name: {self.company.c_name}\\nLoc: {self.company.loc}\")\n",
    "\n",
    "\n",
    "c_obj = Company(\"ABCD\", \"calicut\", \"xyz\", \"sno\")\n",
    "e1 = Employee(\"mithun\", 101, 28, c_obj)\n",
    "e1.showDetails()\n"
   ]
  },
  {
   "cell_type": "markdown",
   "id": "83133e90",
   "metadata": {},
   "source": [
    "<u> Need of OOP</u>\n",
    "<li>"
   ]
  }
 ],
 "metadata": {
  "kernelspec": {
   "display_name": "base",
   "language": "python",
   "name": "python3"
  },
  "language_info": {
   "codemirror_mode": {
    "name": "ipython",
    "version": 3
   },
   "file_extension": ".py",
   "mimetype": "text/x-python",
   "name": "python",
   "nbconvert_exporter": "python",
   "pygments_lexer": "ipython3",
   "version": "3.12.4"
  }
 },
 "nbformat": 4,
 "nbformat_minor": 5
}
