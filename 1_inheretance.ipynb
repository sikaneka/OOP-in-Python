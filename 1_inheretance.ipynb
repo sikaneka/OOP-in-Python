{
 "cells": [
  {
   "cell_type": "markdown",
   "id": "a4ec3d0b",
   "metadata": {},
   "source": [
    "constructor overriding\n",
    "Method resolution order"
   ]
  },
  {
   "cell_type": "markdown",
   "id": "659f965c",
   "metadata": {},
   "source": [
    "<u>Single inheritance</u>"
   ]
  },
  {
   "cell_type": "code",
   "execution_count": null,
   "id": "012c9e73",
   "metadata": {},
   "outputs": [],
   "source": [
    "#Having single constructor\n",
    "class PersonalDetails:\n",
    "    def __init__(self,name,age):\n",
    "        "
   ]
  },
  {
   "cell_type": "code",
   "execution_count": 20,
   "id": "fd1d89d3",
   "metadata": {},
   "outputs": [
    {
     "name": "stdout",
     "output_type": "stream",
     "text": [
      "This is a class for accademic details\n",
      "Grade: 30\n",
      "Mark:A\n",
      "student name: Nila\n",
      "student age: 20\n"
     ]
    }
   ],
   "source": [
    "class PersonalDetails:\n",
    "    def __init__(self,name,age):\n",
    "        self.name=name\n",
    "        self.age=age\n",
    "    def display(self):\n",
    "        print(f\"student name: {self.name}\\nstudent age: {self.age}\")\n",
    "\n",
    "class AcademicDetails(PersonalDetails):\n",
    "    def __init__(self,mark,grade,name,age):\n",
    "        self.grade=grade\n",
    "        self.mark=mark\n",
    "        super().__init__(name,age)\n",
    "    def details(self):\n",
    "        print(f\"This is a class for accademic details\\nGrade: {self.grade}\\nMark:{self.mark}\")\n",
    "\n",
    "a=AcademicDetails(\"A\",30,\"Nila\",20)\n",
    "a.details()\n",
    "a.display()"
   ]
  },
  {
   "cell_type": "markdown",
   "id": "9e27d5b2",
   "metadata": {},
   "source": [
    "<u>Multiple inheritance</u>"
   ]
  },
  {
   "cell_type": "code",
   "execution_count": 38,
   "id": "f9befdd0",
   "metadata": {},
   "outputs": [
    {
     "name": "stdout",
     "output_type": "stream",
     "text": [
      "23,123,AB\n"
     ]
    }
   ],
   "source": [
    "class Person:\n",
    "    def __init__(self,name,age,gender):\n",
    "        self.s_name=name\n",
    "        self.age=age\n",
    "        self.gender=gender\n",
    "\n",
    "class Employee:\n",
    "    def __init__(self,emp_id,department,salary):\n",
    "        self.emp_id=emp_id\n",
    "        self.dep=department\n",
    "        self.salary=salary\n",
    "\n",
    "class Teacher(Person,Employee):\n",
    "    def __init__(self,name,age,gender,emp_id,dep,salary,batch):\n",
    "        self.batch=batch\n",
    "        super().__init__(name,age,gender)\n",
    "        Employee.__init__(self,emp_id,dep,salary)\n",
    "    def details(self):\n",
    "        print(f\"{self.age},{self.emp_id},{self.batch}\")\n",
    "\n",
    "a=Teacher(\"nana\",23,\"F\",123,\"cs\",231056987,\"AB\")\n",
    "a.details()\n",
    "\n",
    "\n",
    "        "
   ]
  },
  {
   "cell_type": "markdown",
   "id": "f82ff98c",
   "metadata": {},
   "source": [
    "<u>Multilevel Inheritance</u>"
   ]
  },
  {
   "cell_type": "code",
   "execution_count": 37,
   "id": "ecc149f7",
   "metadata": {},
   "outputs": [
    {
     "name": "stdout",
     "output_type": "stream",
     "text": [
      "red,aswathee,120525\n"
     ]
    }
   ],
   "source": [
    "class Vehicle:\n",
    "    def __init__(self, clr,vehicle_no):\n",
    "        self.clr=clr\n",
    "        self.v_no=vehicle_no\n",
    "class car(Vehicle):\n",
    "    def __init__(self,clr,v_no,owner):\n",
    "        self.owner=owner\n",
    "        super().__init__(clr,v_no)\n",
    "\n",
    "class Innova(car):\n",
    "    def __init__(self,clr,v_no,owner,purchase_date):\n",
    "        self.p_date=purchase_date\n",
    "        super().__init__(clr,v_no,owner) # can also use default values instead of passing every attributes in super\n",
    "\n",
    "    def display(self):\n",
    "        print(f\"{self.clr},{self.owner},{self.p_date}\")\n",
    "\n",
    "v=Vehicle('red',12354)\n",
    "a=Innova('red',12354,\"aswathee\",120525)\n",
    "a.display()\n",
    "\n",
    "    "
   ]
  },
  {
   "cell_type": "code",
   "execution_count": null,
   "id": "4e8f8325",
   "metadata": {},
   "outputs": [],
   "source": []
  }
 ],
 "metadata": {
  "kernelspec": {
   "display_name": "base",
   "language": "python",
   "name": "python3"
  },
  "language_info": {
   "codemirror_mode": {
    "name": "ipython",
    "version": 3
   },
   "file_extension": ".py",
   "mimetype": "text/x-python",
   "name": "python",
   "nbconvert_exporter": "python",
   "pygments_lexer": "ipython3",
   "version": "3.12.4"
  }
 },
 "nbformat": 4,
 "nbformat_minor": 5
}
