{
 "cells": [
  {
   "cell_type": "markdown",
   "id": "7f317a30",
   "metadata": {},
   "source": [
    "# ABSTRACTION"
   ]
  },
  {
   "cell_type": "markdown",
   "id": "5fb15407",
   "metadata": {},
   "source": [
    "classes having abstract methods are called abstract classes\n",
    "Methods that only have declaration is called abstract methods\n",
    "python doesn't directly support abstract methods"
   ]
  },
  {
   "cell_type": "code",
   "execution_count": 2,
   "id": "f053ba85",
   "metadata": {},
   "outputs": [
    {
     "name": "stdout",
     "output_type": "stream",
     "text": [
      "Car starts with a key ignition.\n",
      "Car stops when brakes are applied.\n",
      "Bike starts with a self-start button.\n",
      "Bike stops when brakes are applied.\n"
     ]
    }
   ],
   "source": [
    "from abc import ABC, abstractmethod\n",
    "\n",
    "# Abstract class\n",
    "class Vehicle(ABC):\n",
    "    @abstractmethod\n",
    "    def start(self):\n",
    "        pass\n",
    "\n",
    "    @abstractmethod\n",
    "    def stop(self):\n",
    "        pass\n",
    "\n",
    "# Child class 1\n",
    "class Car(Vehicle):\n",
    "    def start(self):\n",
    "        print(\"Car starts with a key ignition.\")\n",
    "\n",
    "    def stop(self):\n",
    "        print(\"Car stops when brakes are applied.\")\n",
    "\n",
    "# Child class 2\n",
    "class Bike(Vehicle):\n",
    "    def start(self):\n",
    "        print(\"Bike starts with a self-start button.\")\n",
    "\n",
    "    def stop(self):\n",
    "        print(\"Bike stops when brakes are applied.\")\n",
    "\n",
    "# Usage\n",
    "c = Car()\n",
    "b = Bike()\n",
    "\n",
    "c.start()\n",
    "c.stop()\n",
    "\n",
    "b.start()\n",
    "b.stop()\n"
   ]
  },
  {
   "cell_type": "markdown",
   "id": "939c03cb",
   "metadata": {},
   "source": [
    "1. Create an abstract class BankAccount with abstract methods deposit(amount) and withdraw(amount).\n",
    "Implement a SavingsAccount class that maintains a balance and applies withdrawal rules.\n",
    "\n",
    "2. Define an abstract class Employee with abstract method get_salary().\n",
    "Create FullTimeEmployee (fixed salary) and PartTimeEmployee (hourly wage × hours worked).\n",
    "\n",
    "3. Implement an abstract class Appliance with abstract method turn_on().\n",
    "Subclasses: WashingMachine, Refrigerator.\n",
    "Demonstrate polymorphism using a list of appliances."
   ]
  },
  {
   "cell_type": "code",
   "execution_count": 5,
   "id": "56973669",
   "metadata": {},
   "outputs": [
    {
     "name": "stdout",
     "output_type": "stream",
     "text": [
      "Deposited: 500, New Balance: 1500\n",
      "Withdrew: 200, Remaining Balance: 1300\n",
      "Insufficient balance.\n"
     ]
    }
   ],
   "source": [
    "from abc import ABC, abstractmethod\n",
    "\n",
    "# Abstract class\n",
    "class BankAccount(ABC):\n",
    "    def __init__(self, balance=0):\n",
    "        self.balance = balance\n",
    "\n",
    "    @abstractmethod\n",
    "    def deposit(self, amount):\n",
    "        pass\n",
    "\n",
    "    @abstractmethod\n",
    "    def withdraw(self, amount):\n",
    "        pass\n",
    "\n",
    "\n",
    "# Concrete class\n",
    "class SavingsAccount(BankAccount):\n",
    "    def deposit(self, amount):\n",
    "        if amount > 0:\n",
    "            self.balance += amount\n",
    "            print(f\"Deposited: {amount}, New Balance: {self.balance}\")\n",
    "        else:\n",
    "            print(\"Deposit amount must be positive.\")\n",
    "\n",
    "    def withdraw(self, amount):\n",
    "        if amount <= 0:\n",
    "            print(\"Withdrawal amount must be positive.\")\n",
    "        elif amount > self.balance:\n",
    "            print(\"Insufficient balance.\")\n",
    "        else:\n",
    "            self.balance -= amount\n",
    "            print(f\"Withdrew: {amount}, Remaining Balance: {self.balance}\")\n",
    "\n",
    "\n",
    "account = SavingsAccount(1000)   # Initial balance\n",
    "account.deposit(500)             # Deposit\n",
    "account.withdraw(200)            # Withdraw\n",
    "account.withdraw(2000)           # Invalid (Insufficient)\n",
    "\n"
   ]
  }
 ],
 "metadata": {
  "kernelspec": {
   "display_name": "base",
   "language": "python",
   "name": "python3"
  },
  "language_info": {
   "codemirror_mode": {
    "name": "ipython",
    "version": 3
   },
   "file_extension": ".py",
   "mimetype": "text/x-python",
   "name": "python",
   "nbconvert_exporter": "python",
   "pygments_lexer": "ipython3",
   "version": "3.12.4"
  }
 },
 "nbformat": 4,
 "nbformat_minor": 5
}
